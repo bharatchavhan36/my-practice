{
 "cells": [
  {
   "cell_type": "code",
   "execution_count": 1,
   "metadata": {},
   "outputs": [],
   "source": [
    "#1. Import the numpy package under the name np\n",
    "import numpy as np\n"
   ]
  },
  {
   "cell_type": "code",
   "execution_count": 2,
   "metadata": {},
   "outputs": [
    {
     "name": "stdout",
     "output_type": "stream",
     "text": [
      "1.16.5\n",
      "mkl_info:\n",
      "    libraries = ['mkl_rt']\n",
      "    library_dirs = ['C:/Users/bharat/Anaconda3\\\\Library\\\\lib']\n",
      "    define_macros = [('SCIPY_MKL_H', None), ('HAVE_CBLAS', None)]\n",
      "    include_dirs = ['C:\\\\Program Files (x86)\\\\IntelSWTools\\\\compilers_and_libraries_2019.0.117\\\\windows\\\\mkl', 'C:\\\\Program Files (x86)\\\\IntelSWTools\\\\compilers_and_libraries_2019.0.117\\\\windows\\\\mkl\\\\include', 'C:\\\\Program Files (x86)\\\\IntelSWTools\\\\compilers_and_libraries_2019.0.117\\\\windows\\\\mkl\\\\lib', 'C:/Users/bharat/Anaconda3\\\\Library\\\\include']\n",
      "blas_mkl_info:\n",
      "    libraries = ['mkl_rt']\n",
      "    library_dirs = ['C:/Users/bharat/Anaconda3\\\\Library\\\\lib']\n",
      "    define_macros = [('SCIPY_MKL_H', None), ('HAVE_CBLAS', None)]\n",
      "    include_dirs = ['C:\\\\Program Files (x86)\\\\IntelSWTools\\\\compilers_and_libraries_2019.0.117\\\\windows\\\\mkl', 'C:\\\\Program Files (x86)\\\\IntelSWTools\\\\compilers_and_libraries_2019.0.117\\\\windows\\\\mkl\\\\include', 'C:\\\\Program Files (x86)\\\\IntelSWTools\\\\compilers_and_libraries_2019.0.117\\\\windows\\\\mkl\\\\lib', 'C:/Users/bharat/Anaconda3\\\\Library\\\\include']\n",
      "blas_opt_info:\n",
      "    libraries = ['mkl_rt']\n",
      "    library_dirs = ['C:/Users/bharat/Anaconda3\\\\Library\\\\lib']\n",
      "    define_macros = [('SCIPY_MKL_H', None), ('HAVE_CBLAS', None)]\n",
      "    include_dirs = ['C:\\\\Program Files (x86)\\\\IntelSWTools\\\\compilers_and_libraries_2019.0.117\\\\windows\\\\mkl', 'C:\\\\Program Files (x86)\\\\IntelSWTools\\\\compilers_and_libraries_2019.0.117\\\\windows\\\\mkl\\\\include', 'C:\\\\Program Files (x86)\\\\IntelSWTools\\\\compilers_and_libraries_2019.0.117\\\\windows\\\\mkl\\\\lib', 'C:/Users/bharat/Anaconda3\\\\Library\\\\include']\n",
      "lapack_mkl_info:\n",
      "    libraries = ['mkl_rt']\n",
      "    library_dirs = ['C:/Users/bharat/Anaconda3\\\\Library\\\\lib']\n",
      "    define_macros = [('SCIPY_MKL_H', None), ('HAVE_CBLAS', None)]\n",
      "    include_dirs = ['C:\\\\Program Files (x86)\\\\IntelSWTools\\\\compilers_and_libraries_2019.0.117\\\\windows\\\\mkl', 'C:\\\\Program Files (x86)\\\\IntelSWTools\\\\compilers_and_libraries_2019.0.117\\\\windows\\\\mkl\\\\include', 'C:\\\\Program Files (x86)\\\\IntelSWTools\\\\compilers_and_libraries_2019.0.117\\\\windows\\\\mkl\\\\lib', 'C:/Users/bharat/Anaconda3\\\\Library\\\\include']\n",
      "lapack_opt_info:\n",
      "    libraries = ['mkl_rt']\n",
      "    library_dirs = ['C:/Users/bharat/Anaconda3\\\\Library\\\\lib']\n",
      "    define_macros = [('SCIPY_MKL_H', None), ('HAVE_CBLAS', None)]\n",
      "    include_dirs = ['C:\\\\Program Files (x86)\\\\IntelSWTools\\\\compilers_and_libraries_2019.0.117\\\\windows\\\\mkl', 'C:\\\\Program Files (x86)\\\\IntelSWTools\\\\compilers_and_libraries_2019.0.117\\\\windows\\\\mkl\\\\include', 'C:\\\\Program Files (x86)\\\\IntelSWTools\\\\compilers_and_libraries_2019.0.117\\\\windows\\\\mkl\\\\lib', 'C:/Users/bharat/Anaconda3\\\\Library\\\\include']\n"
     ]
    }
   ],
   "source": [
    "#2. Print the numpy version and the configuration\n",
    "\n",
    "print(np.__version__)\n",
    "np.show_config()"
   ]
  },
  {
   "cell_type": "code",
   "execution_count": 3,
   "metadata": {},
   "outputs": [
    {
     "name": "stdout",
     "output_type": "stream",
     "text": [
      "[0. 0. 0. 0. 0. 0. 0. 0. 0. 0.]\n"
     ]
    }
   ],
   "source": [
    "#3. Create a null vector of size 10\n",
    "\n",
    "Z = np.zeros(10)\n",
    "print(Z)"
   ]
  },
  {
   "cell_type": "code",
   "execution_count": 16,
   "metadata": {
    "scrolled": true
   },
   "outputs": [
    {
     "name": "stdout",
     "output_type": "stream",
     "text": [
      "800 bytes\n"
     ]
    }
   ],
   "source": [
    "#4. How to find the memory size of any array\n",
    "\n",
    "Z = np.zeros((10,10))\n",
    "print(\"%d bytes\" % (Z.size * Z.itemsize))"
   ]
  },
  {
   "cell_type": "code",
   "execution_count": 19,
   "metadata": {},
   "outputs": [
    {
     "data": {
      "text/plain": [
       "800"
      ]
     },
     "execution_count": 19,
     "metadata": {},
     "output_type": "execute_result"
    }
   ],
   "source": [
    "(Z.size * Z.itemsize)"
   ]
  },
  {
   "cell_type": "code",
   "execution_count": 5,
   "metadata": {},
   "outputs": [
    {
     "name": "stdout",
     "output_type": "stream",
     "text": [
      "[0. 0. 0. 0. 1. 0. 0. 0. 0. 0.]\n"
     ]
    }
   ],
   "source": [
    "#5. How to get the documentation of the numpy add function from the command line?\n",
    "Z = np.zeros(10)\n",
    "Z[4] = 1\n",
    "print(Z)"
   ]
  },
  {
   "cell_type": "code",
   "execution_count": 6,
   "metadata": {},
   "outputs": [
    {
     "name": "stdout",
     "output_type": "stream",
     "text": [
      "[10 11 12 13 14 15 16 17 18 19 20 21 22 23 24 25 26 27 28 29 30 31 32 33\n",
      " 34 35 36 37 38 39 40 41 42 43 44 45 46 47 48 49]\n"
     ]
    }
   ],
   "source": [
    "#7. Create a vector with values ranging from 10 to 49\n",
    "\n",
    "Z = np.arange(10,50)\n",
    "print(Z)"
   ]
  },
  {
   "cell_type": "code",
   "execution_count": 7,
   "metadata": {},
   "outputs": [
    {
     "name": "stdout",
     "output_type": "stream",
     "text": [
      "[49 48 47 46 45 44 43 42 41 40 39 38 37 36 35 34 33 32 31 30 29 28 27 26\n",
      " 25 24 23 22 21 20 19 18 17 16 15 14 13 12 11 10  9  8  7  6  5  4  3  2\n",
      "  1  0]\n"
     ]
    }
   ],
   "source": [
    "#8. Reverse a vector (first element becomes last) (★☆☆)\n",
    "\n",
    "Z = np.arange(50)\n",
    "Z = Z[::-1]\n",
    "print(Z)"
   ]
  },
  {
   "cell_type": "code",
   "execution_count": 8,
   "metadata": {},
   "outputs": [
    {
     "name": "stdout",
     "output_type": "stream",
     "text": [
      "[[0 1 2]\n",
      " [3 4 5]\n",
      " [6 7 8]]\n"
     ]
    }
   ],
   "source": [
    "#Create a 3x3 matrix with values ranging from 0 to 8\n",
    "Z = np.arange(9).reshape(3,3)\n",
    "print(Z)"
   ]
  },
  {
   "cell_type": "code",
   "execution_count": 20,
   "metadata": {},
   "outputs": [
    {
     "name": "stdout",
     "output_type": "stream",
     "text": [
      "(array([0, 1, 4], dtype=int64),)\n"
     ]
    }
   ],
   "source": [
    "#10. Find indices of non-zero elements from [1,2,0,0,4,0]\n",
    "nz = np.nonzero([1,2,0,0,4,0])\n",
    "print(nz)"
   ]
  },
  {
   "cell_type": "code",
   "execution_count": 21,
   "metadata": {},
   "outputs": [
    {
     "data": {
      "text/plain": [
       "array([[1., 0., 0.],\n",
       "       [0., 1., 0.],\n",
       "       [0., 0., 1.]])"
      ]
     },
     "execution_count": 21,
     "metadata": {},
     "output_type": "execute_result"
    }
   ],
   "source": [
    "#11. Create a 3x3 identity matrix \n",
    "np.eye(3)"
   ]
  },
  {
   "cell_type": "code",
   "execution_count": 38,
   "metadata": {},
   "outputs": [
    {
     "data": {
      "text/plain": [
       "array([[[[[0.00228147, 0.15235888],\n",
       "          [0.79394586, 0.75424857]],\n",
       "\n",
       "         [[0.88029362, 0.99481618],\n",
       "          [0.4641546 , 0.72991718]],\n",
       "\n",
       "         [[0.23664517, 0.78215956],\n",
       "          [0.94231229, 0.69590529]]],\n",
       "\n",
       "\n",
       "        [[[0.77355488, 0.63307233],\n",
       "          [0.03381768, 0.39695135]],\n",
       "\n",
       "         [[0.05140383, 0.94678539],\n",
       "          [0.7197033 , 0.30233114]],\n",
       "\n",
       "         [[0.97150046, 0.08238137],\n",
       "          [0.98743177, 0.30556611]]],\n",
       "\n",
       "\n",
       "        [[[0.85728327, 0.8593943 ],\n",
       "          [0.2863572 , 0.77321703]],\n",
       "\n",
       "         [[0.81317613, 0.66542559],\n",
       "          [0.02765539, 0.35173318]],\n",
       "\n",
       "         [[0.25503766, 0.03121166],\n",
       "          [0.03418962, 0.66819323]]]],\n",
       "\n",
       "\n",
       "\n",
       "       [[[[0.53790021, 0.10480942],\n",
       "          [0.18943962, 0.85263247]],\n",
       "\n",
       "         [[0.64333114, 0.16517297],\n",
       "          [0.92728101, 0.20883125]],\n",
       "\n",
       "         [[0.27455568, 0.66443367],\n",
       "          [0.6749579 , 0.14670206]]],\n",
       "\n",
       "\n",
       "        [[[0.86590839, 0.49048763],\n",
       "          [0.70424386, 0.21625385]],\n",
       "\n",
       "         [[0.42351252, 0.53783576],\n",
       "          [0.4880652 , 0.95443793]],\n",
       "\n",
       "         [[0.48342845, 0.52501731],\n",
       "          [0.41694687, 0.06195234]]],\n",
       "\n",
       "\n",
       "        [[[0.2263819 , 0.11084028],\n",
       "          [0.69725509, 0.73139181]],\n",
       "\n",
       "         [[0.08823595, 0.25486049],\n",
       "          [0.46226558, 0.40871077]],\n",
       "\n",
       "         [[0.46901649, 0.76342108],\n",
       "          [0.91279219, 0.95399088]]]],\n",
       "\n",
       "\n",
       "\n",
       "       [[[[0.51601359, 0.20657452],\n",
       "          [0.75686679, 0.80106348]],\n",
       "\n",
       "         [[0.02709494, 0.16489609],\n",
       "          [0.64123643, 0.51185256]],\n",
       "\n",
       "         [[0.73554038, 0.59986306],\n",
       "          [0.83102287, 0.93468566]]],\n",
       "\n",
       "\n",
       "        [[[0.1391961 , 0.35086057],\n",
       "          [0.30281731, 0.79979394]],\n",
       "\n",
       "         [[0.98290758, 0.777638  ],\n",
       "          [0.91432353, 0.63046994]],\n",
       "\n",
       "         [[0.38693899, 0.78696242],\n",
       "          [0.44377595, 0.18415226]]],\n",
       "\n",
       "\n",
       "        [[[0.86337701, 0.61613768],\n",
       "          [0.99700299, 0.17337718]],\n",
       "\n",
       "         [[0.60754175, 0.19231123],\n",
       "          [0.08517972, 0.9478875 ]],\n",
       "\n",
       "         [[0.27174056, 0.22117654],\n",
       "          [0.26534376, 0.60084121]]]]])"
      ]
     },
     "execution_count": 38,
     "metadata": {},
     "output_type": "execute_result"
    }
   ],
   "source": [
    "#12. Create a 3x3x3 array with random values \n",
    "\n",
    "np.random.random((3,3,3)) #u can alter the no of rows and column by adding any no of rowsa in bracket "
   ]
  },
  {
   "cell_type": "code",
   "execution_count": 64,
   "metadata": {},
   "outputs": [
    {
     "name": "stdout",
     "output_type": "stream",
     "text": [
      "1.4229319615477465e-05\n",
      "0.993840855253565\n"
     ]
    }
   ],
   "source": [
    "#13. Create a 10x10 array with random values and find the minimum and maximum values (★☆☆)¶\n",
    "z=np.random.random((10,10))\n",
    "print(z.min())\n",
    "print(z.max())"
   ]
  },
  {
   "cell_type": "code",
   "execution_count": 69,
   "metadata": {},
   "outputs": [
    {
     "data": {
      "text/plain": [
       "0.45773309619035885"
      ]
     },
     "execution_count": 69,
     "metadata": {},
     "output_type": "execute_result"
    }
   ],
   "source": [
    "#14. Create a random vector of size 30 and find the mean value (★☆☆)¶\n",
    "z=np.random.random(30)\n",
    "z.mean()"
   ]
  },
  {
   "cell_type": "code",
   "execution_count": 88,
   "metadata": {},
   "outputs": [
    {
     "data": {
      "text/plain": [
       "array([[1., 1., 1., 1., 1., 1., 1., 1., 1., 1.],\n",
       "       [1., 0., 0., 0., 0., 0., 0., 0., 0., 1.],\n",
       "       [1., 0., 0., 0., 0., 0., 0., 0., 0., 1.],\n",
       "       [1., 0., 0., 0., 0., 0., 0., 0., 0., 1.],\n",
       "       [1., 0., 0., 0., 0., 0., 0., 0., 0., 1.],\n",
       "       [1., 0., 0., 0., 0., 0., 0., 0., 0., 1.],\n",
       "       [1., 0., 0., 0., 0., 0., 0., 0., 0., 1.],\n",
       "       [1., 0., 0., 0., 0., 0., 0., 0., 0., 1.],\n",
       "       [1., 0., 0., 0., 0., 0., 0., 0., 0., 1.],\n",
       "       [1., 1., 1., 1., 1., 1., 1., 1., 1., 1.]])"
      ]
     },
     "execution_count": 88,
     "metadata": {},
     "output_type": "execute_result"
    }
   ],
   "source": [
    "#15. Create a 2d array with 1 on the border and 0 inside (★☆☆)¶\n",
    "z=np.ones((10,10))\n",
    "z[1:-1,1:-1]=0\n",
    "z"
   ]
  },
  {
   "cell_type": "code",
   "execution_count": 96,
   "metadata": {},
   "outputs": [
    {
     "name": "stdout",
     "output_type": "stream",
     "text": [
      "[[0. 0. 0. 0. 0. 0. 0.]\n",
      " [0. 1. 1. 1. 1. 1. 0.]\n",
      " [0. 1. 1. 1. 1. 1. 0.]\n",
      " [0. 1. 1. 1. 1. 1. 0.]\n",
      " [0. 1. 1. 1. 1. 1. 0.]\n",
      " [0. 1. 1. 1. 1. 1. 0.]\n",
      " [0. 0. 0. 0. 0. 0. 0.]]\n"
     ]
    }
   ],
   "source": [
    "#16. How to add a border (filled with 0's) around an existing array? (★☆☆)¶\n",
    "Z = np.ones((5,5))\n",
    "Z = np.pad(Z, pad_width=1, mode='constant', constant_values=0)\n",
    "print(Z)"
   ]
  },
  {
   "cell_type": "code",
   "execution_count": 98,
   "metadata": {},
   "outputs": [
    {
     "name": "stdout",
     "output_type": "stream",
     "text": [
      "nan\n",
      "False\n",
      "False\n",
      "nan\n",
      "True\n",
      "False\n"
     ]
    }
   ],
   "source": [
    "#17. What is the result of the following expression? (★☆☆)¶\n",
    "\n",
    "print(0 * np.nan)\n",
    "print(np.nan == np.nan)\n",
    "print(np.inf > np.nan)\n",
    "print(np.nan - np.nan)\n",
    "print(np.nan in set([np.nan]))\n",
    "print(0.3 == 3 * 0.1)"
   ]
  },
  {
   "cell_type": "code",
   "execution_count": 103,
   "metadata": {},
   "outputs": [
    {
     "data": {
      "text/plain": [
       "array([[0],\n",
       "       [1],\n",
       "       [2],\n",
       "       [3],\n",
       "       [4],\n",
       "       [5],\n",
       "       [6],\n",
       "       [7],\n",
       "       [8],\n",
       "       [9]])"
      ]
     },
     "execution_count": 103,
     "metadata": {},
     "output_type": "execute_result"
    }
   ],
   "source": [
    "z=np.arange(10)\n",
    "z.reshape(-1,1)\n"
   ]
  },
  {
   "cell_type": "code",
   "execution_count": 111,
   "metadata": {},
   "outputs": [
    {
     "name": "stdout",
     "output_type": "stream",
     "text": [
      "[[0 0 0 0 0]\n",
      " [1 0 0 0 0]\n",
      " [0 2 0 0 0]\n",
      " [0 0 3 0 0]\n",
      " [0 0 0 4 0]]\n"
     ]
    }
   ],
   "source": [
    "#18. Create a 5x5 matrix with values 1,2,3,4 just below the diagonal (★☆☆)¶\n",
    "\n",
    "Z = np.diag(1+np.arange(4),k=(-1))\n",
    "print(Z)"
   ]
  },
  {
   "cell_type": "code",
   "execution_count": 167,
   "metadata": {},
   "outputs": [
    {
     "name": "stdout",
     "output_type": "stream",
     "text": [
      "[[[0.02912875 0.11180292]\n",
      "  [0.88950808 0.89930162]\n",
      "  [0.50245507 0.51246124]\n",
      "  [0.23652729 0.77087505]\n",
      "  [0.81418768 0.05757943]]\n",
      "\n",
      " [[0.96119282 0.70281951]\n",
      "  [0.99065579 0.45456988]\n",
      "  [0.04051963 0.99193472]\n",
      "  [0.99340053 0.70085349]\n",
      "  [0.54653359 0.45326712]]\n",
      "\n",
      " [[0.01007362 0.68924904]\n",
      "  [0.91423927 0.33623148]\n",
      "  [0.04985143 0.50436195]\n",
      "  [0.95085903 0.62456252]\n",
      "  [0.76839188 0.54443207]]\n",
      "\n",
      " [[0.15113927 0.010112  ]\n",
      "  [0.86728528 0.21373272]\n",
      "  [0.05042451 0.85271327]\n",
      "  [0.86541175 0.05591792]\n",
      "  [0.45917438 0.33595955]]]\n",
      "[[[0.85845412 0.05689982]\n",
      "  [0.03654204 0.17856512]\n",
      "  [0.04990585 0.54180798]\n",
      "  [0.45215047 0.477991  ]\n",
      "  [0.10546991 0.61541302]]\n",
      "\n",
      " [[0.62242789 0.0321653 ]\n",
      "  [0.44946001 0.26894312]\n",
      "  [0.85789056 0.87930575]\n",
      "  [0.76421489 0.46127408]\n",
      "  [0.86497571 0.281944  ]]\n",
      "\n",
      " [[0.03642477 0.62307071]\n",
      "  [0.81072294 0.0535599 ]\n",
      "  [0.33114926 0.92467019]\n",
      "  [0.74208311 0.24132835]\n",
      "  [0.35792249 0.8776509 ]]\n",
      "\n",
      " [[0.26786297 0.94338899]\n",
      "  [0.47119612 0.02391986]\n",
      "  [0.22588921 0.86873698]\n",
      "  [0.59456035 0.81118443]\n",
      "  [0.001495   0.55203093]]]\n",
      "[[[0.74983598 0.60289284]\n",
      "  [0.4847077  0.28734643]\n",
      "  [0.01194829 0.06056357]\n",
      "  [0.97227172 0.10841057]\n",
      "  [0.82894768 0.21446274]]\n",
      "\n",
      " [[0.62471219 0.11320296]\n",
      "  [0.24613952 0.9534887 ]\n",
      "  [0.5431032  0.96327346]\n",
      "  [0.72606751 0.05975401]\n",
      "  [0.48170717 0.22463853]]\n",
      "\n",
      " [[0.15744338 0.38864578]\n",
      "  [0.52191881 0.30868433]\n",
      "  [0.75053159 0.8138187 ]\n",
      "  [0.09323424 0.11264223]\n",
      "  [0.70561764 0.22395166]]\n",
      "\n",
      " [[0.54290664 0.73511846]\n",
      "  [0.07831909 0.6043789 ]\n",
      "  [0.59084503 0.61590236]\n",
      "  [0.04002619 0.9961028 ]\n",
      "  [0.7872569  0.31944202]]]\n",
      "[[[0.24011848 0.83678143]\n",
      "  [0.1617596  0.17534842]\n",
      "  [0.55858254 0.81056076]\n",
      "  [0.7534266  0.77121622]\n",
      "  [0.98708408 0.44326762]]\n",
      "\n",
      " [[0.50164784 0.5568792 ]\n",
      "  [0.18176259 0.1580829 ]\n",
      "  [0.77339593 0.28041508]\n",
      "  [0.01868832 0.22494217]\n",
      "  [0.03180113 0.91131534]]\n",
      "\n",
      " [[0.84931772 0.05716795]\n",
      "  [0.92930683 0.78707758]\n",
      "  [0.35518002 0.65697558]\n",
      "  [0.35936322 0.51826217]\n",
      "  [0.16605734 0.8713947 ]]\n",
      "\n",
      " [[0.98761201 0.95241943]\n",
      "  [0.49475949 0.83410178]\n",
      "  [0.06068092 0.00941534]\n",
      "  [0.40249474 0.90400238]\n",
      "  [0.22537697 0.59375122]]]\n"
     ]
    }
   ],
   "source": [
    "\n",
    "for _ in range(4):\n",
    "    Z = np.random.random((4,5,2))\n",
    "#Z = (Z - np.mean (Z)) / (np.std (Z))\n",
    "    print(Z)"
   ]
  },
  {
   "cell_type": "code",
   "execution_count": 162,
   "metadata": {},
   "outputs": [
    {
     "name": "stdout",
     "output_type": "stream",
     "text": [
      "9\n",
      "4\n",
      "1\n",
      "4\n",
      "9\n",
      "9\n",
      "4\n",
      "7\n",
      "9\n",
      "6\n"
     ]
    }
   ],
   "source": [
    "from random import seed\n",
    "from random import randint\n",
    "# seed random number generator\n",
    "#seed(1)\n",
    "# generate some integers\n",
    "for _ in range(10):\n",
    "\tvalue = randint(1, 10)\n",
    "\tprint(value)"
   ]
  },
  {
   "cell_type": "code",
   "execution_count": 181,
   "metadata": {},
   "outputs": [
    {
     "name": "stdout",
     "output_type": "stream",
     "text": [
      "[1 2 7]\n"
     ]
    }
   ],
   "source": [
    "#30. How to find common values between two arrays? (★☆☆)¶\n",
    "\n",
    "Z1 = np.random.randint(0,10,10)\n",
    "Z2 = np.random.randint(0,10,10)\n",
    "print(np.intersect1d(Z1,Z2))"
   ]
  },
  {
   "cell_type": "code",
   "execution_count": null,
   "metadata": {},
   "outputs": [],
   "source": []
  }
 ],
 "metadata": {
  "kernelspec": {
   "display_name": "Python 3",
   "language": "python",
   "name": "python3"
  },
  "language_info": {
   "codemirror_mode": {
    "name": "ipython",
    "version": 3
   },
   "file_extension": ".py",
   "mimetype": "text/x-python",
   "name": "python",
   "nbconvert_exporter": "python",
   "pygments_lexer": "ipython3",
   "version": "3.7.4"
  }
 },
 "nbformat": 4,
 "nbformat_minor": 2
}
